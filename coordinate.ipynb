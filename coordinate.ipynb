{
 "cells": [
  {
   "cell_type": "code",
   "execution_count": 3,
   "id": "5b2fc92d",
   "metadata": {},
   "outputs": [
    {
     "name": "stdout",
     "output_type": "stream",
     "text": [
      "Control Identifiers:\n",
      "\n",
      "MSPaintApp - 'Untitled - Paint'    (L-9, T-9, R1929, B1149)\n",
      "['Untitled - Paint', 'MSPaintApp', 'Untitled - PaintMSPaintApp']\n",
      "child_window(title=\"Untitled - Paint\", class_name=\"MSPaintApp\")\n",
      "   | \n",
      "   | MSPaintView - ''    (L0, T29, R1920, B1140)\n",
      "   | ['MSPaintView']\n",
      "   | child_window(class_name=\"MSPaintView\")\n",
      "   |    | \n",
      "   |    | Afx:00007FF610DF0000:8 - ''    (L0, T29, R1920, B1140)\n",
      "   |    | ['Afx:00007FF610DF0000:8']\n",
      "   |    | child_window(class_name=\"Afx:00007FF610DF0000:8\")\n",
      "   | \n",
      "   | Afx:00007FF610DF0000:8 - ''    (L0, T29, R1920, B1140)\n",
      "   | ['Afx:00007FF610DF0000:8']\n",
      "   | child_window(class_name=\"Afx:00007FF610DF0000:8\")\n",
      "   | \n",
      "   | Microsoft.UI.Content.DesktopChildSiteBridge - ''    (L0, T29, R1920, B1140)\n",
      "   | ['Microsoft.UI.Content.DesktopChildSiteBridge']\n",
      "   | child_window(class_name=\"Microsoft.UI.Content.DesktopChildSiteBridge\")\n",
      "   |    | \n",
      "   |    | InputSiteWindowClass - ''    (L0, T29, R0, B29)\n",
      "   |    | ['InputSiteWindowClass']\n",
      "   |    | child_window(class_name=\"InputSiteWindowClass\")\n",
      "   | \n",
      "   | InputSiteWindowClass - ''    (L0, T29, R0, B29)\n",
      "   | ['InputSiteWindowClass']\n",
      "   | child_window(class_name=\"InputSiteWindowClass\")\n",
      "   | \n",
      "   | InputNonClientPointerSource - 'Non Client Input Sink Window'    (L0, T29, R0, B29)\n",
      "   | ['InputNonClientPointerSource', 'Non Client Input Sink Window', 'Non Client Input Sink WindowInputNonClientPointerSource']\n",
      "   | child_window(title=\"Non Client Input Sink Window\", class_name=\"InputNonClientPointerSource\")\n",
      "   | \n",
      "   | AfxWnd140u - ''    (L0, T29, R0, B29)\n",
      "   | ['AfxWnd140u']\n",
      "   | child_window(class_name=\"AfxWnd140u\")\n"
     ]
    }
   ],
   "source": [
    "from pywinauto.application import Application\n",
    "\n",
    "app = Application().start(\"mspaint.exe\")\n",
    "paint_window = app.window(class_name='MSPaintApp')\n",
    "paint_window.print_control_identifiers()"
   ]
  },
  {
   "cell_type": "code",
   "execution_count": 4,
   "id": "69d19e83",
   "metadata": {},
   "outputs": [
    {
     "name": "stdout",
     "output_type": "stream",
     "text": [
      "Point(x=421, y=110)\n"
     ]
    }
   ],
   "source": [
    "import pyautogui\n",
    "import time\n",
    "\n",
    "time.sleep(5)  # move mouse to the Rectangle tool within 5 sec\n",
    "print(pyautogui.position())  # prints (x, y)"
   ]
  },
  {
   "cell_type": "code",
   "execution_count": null,
   "id": "f5e0dfe0",
   "metadata": {},
   "outputs": [
    {
     "name": "stdout",
     "output_type": "stream",
     "text": [
      "Collecting pyautogui\n",
      "  Downloading PyAutoGUI-0.9.54.tar.gz (61 kB)\n",
      "  Installing build dependencies: started\n",
      "  Installing build dependencies: finished with status 'done'\n",
      "  Getting requirements to build wheel: started\n",
      "  Getting requirements to build wheel: finished with status 'done'\n",
      "  Preparing metadata (pyproject.toml): started\n",
      "  Preparing metadata (pyproject.toml): finished with status 'done'\n",
      "Collecting pymsgbox (from pyautogui)\n",
      "  Downloading pymsgbox-2.0.1-py3-none-any.whl.metadata (4.4 kB)\n",
      "Collecting pytweening>=1.0.4 (from pyautogui)\n",
      "  Downloading pytweening-1.2.0.tar.gz (171 kB)\n",
      "  Preparing metadata (setup.py): started\n",
      "  Preparing metadata (setup.py): finished with status 'done'\n",
      "Collecting pyscreeze>=0.1.21 (from pyautogui)\n",
      "  Downloading pyscreeze-1.0.1.tar.gz (27 kB)\n",
      "  Installing build dependencies: started\n",
      "  Installing build dependencies: finished with status 'done'\n",
      "  Getting requirements to build wheel: started\n",
      "  Getting requirements to build wheel: finished with status 'done'\n",
      "  Preparing metadata (pyproject.toml): started\n",
      "  Preparing metadata (pyproject.toml): finished with status 'done'\n",
      "Collecting pygetwindow>=0.0.5 (from pyautogui)\n",
      "  Downloading PyGetWindow-0.0.9.tar.gz (9.7 kB)\n",
      "  Preparing metadata (setup.py): started\n",
      "  Preparing metadata (setup.py): finished with status 'done'\n",
      "Collecting mouseinfo (from pyautogui)\n",
      "  Downloading MouseInfo-0.1.3.tar.gz (10 kB)\n",
      "  Preparing metadata (setup.py): started\n",
      "  Preparing metadata (setup.py): finished with status 'done'\n",
      "Collecting pyrect (from pygetwindow>=0.0.5->pyautogui)\n",
      "  Downloading PyRect-0.2.0.tar.gz (17 kB)\n",
      "  Preparing metadata (setup.py): started\n",
      "  Preparing metadata (setup.py): finished with status 'done'\n",
      "Requirement already satisfied: Pillow>=9.2.0 in c:\\anaconda3\\envs\\genai\\lib\\site-packages (from pyscreeze>=0.1.21->pyautogui) (11.3.0)\n",
      "Collecting pyperclip (from mouseinfo->pyautogui)\n",
      "  Using cached pyperclip-1.11.0-py3-none-any.whl.metadata (2.4 kB)\n",
      "Downloading pymsgbox-2.0.1-py3-none-any.whl (10.0 kB)\n",
      "Using cached pyperclip-1.11.0-py3-none-any.whl (11 kB)\n",
      "Building wheels for collected packages: pyautogui, pygetwindow, pyscreeze, pytweening, mouseinfo, pyrect\n",
      "  Building wheel for pyautogui (pyproject.toml): started\n",
      "  Building wheel for pyautogui (pyproject.toml): finished with status 'done'\n",
      "  Created wheel for pyautogui: filename=pyautogui-0.9.54-py3-none-any.whl size=37707 sha256=6e8f904c42def2112446ae409e8c9a5152326160badfa5e79430a174cd589a68\n",
      "  Stored in directory: c:\\users\\rushreeta roy\\appdata\\local\\pip\\cache\\wheels\\23\\a7\\1c\\5a51aaff3bbe110be4ddf766d429cc9d2fae7a72fc1b843e56\n",
      "  Building wheel for pygetwindow (setup.py): started\n",
      "  Building wheel for pygetwindow (setup.py): finished with status 'done'\n",
      "  Created wheel for pygetwindow: filename=pygetwindow-0.0.9-py3-none-any.whl size=11136 sha256=3dc51a702c40b5659b5fde962aa4e7b6f90960be2e6238e88d86723626a01780\n",
      "  Stored in directory: c:\\users\\rushreeta roy\\appdata\\local\\pip\\cache\\wheels\\02\\f6\\64\\c5d427819f80553df2398bfecc351e94e00371c1dcb6edb24e\n",
      "  Building wheel for pyscreeze (pyproject.toml): started\n",
      "  Building wheel for pyscreeze (pyproject.toml): finished with status 'done'\n",
      "  Created wheel for pyscreeze: filename=pyscreeze-1.0.1-py3-none-any.whl size=14481 sha256=ec20f1613f5b30b7552bad19726f51ee4f8f2709e922e04cb77dd67d4ef06a82\n",
      "  Stored in directory: c:\\users\\rushreeta roy\\appdata\\local\\pip\\cache\\wheels\\61\\bb\\e6\\638ce7843ec76f69155decf3a8f2c0ef0e6afc53fc9e09c7e8\n",
      "  Building wheel for pytweening (setup.py): started\n",
      "  Building wheel for pytweening (setup.py): finished with status 'done'\n",
      "  Created wheel for pytweening: filename=pytweening-1.2.0-py3-none-any.whl size=8135 sha256=7225d262347d39b72ff4289e38b4bb2717c2c6ad8a92ce4be2713454d5c98c3d\n",
      "  Stored in directory: c:\\users\\rushreeta roy\\appdata\\local\\pip\\cache\\wheels\\22\\d7\\02\\b3e395d93b6dd41a7da54b2fa738ec03e7fb7451f7f22f8213\n",
      "  Building wheel for mouseinfo (setup.py): started\n",
      "  Building wheel for mouseinfo (setup.py): finished with status 'done'\n",
      "  Created wheel for mouseinfo: filename=mouseinfo-0.1.3-py3-none-any.whl size=10967 sha256=c2020bd6fac8ba1c5a9e00c5d489196d344dae0ae0333f7a0e5768a090b8fc00\n",
      "  Stored in directory: c:\\users\\rushreeta roy\\appdata\\local\\pip\\cache\\wheels\\6e\\d5\\27\\2f1be84b3e6ccee99c82f50e3fe7fe6360dd30417109b49a72\n",
      "  Building wheel for pyrect (setup.py): started\n",
      "  Building wheel for pyrect (setup.py): finished with status 'done'\n",
      "  Created wheel for pyrect: filename=pyrect-0.2.0-py2.py3-none-any.whl size=11305 sha256=e61f11d2c4190ea2a1bac679678dbaef4c4792f0d1f4a61f76c462abccaf8691\n",
      "  Stored in directory: c:\\users\\rushreeta roy\\appdata\\local\\pip\\cache\\wheels\\d5\\4c\\bd\\42e4e23641afcd185d4e932784da37e6e04505da0cf3f7b832\n",
      "Successfully built pyautogui pygetwindow pyscreeze pytweening mouseinfo pyrect\n",
      "Installing collected packages: pytweening, pyrect, pyperclip, pyscreeze, pymsgbox, pygetwindow, mouseinfo, pyautogui\n",
      "\n",
      "   ---------------------------------------- 8/8 [pyautogui]\n",
      "\n",
      "Successfully installed mouseinfo-0.1.3 pyautogui-0.9.54 pygetwindow-0.0.9 pymsgbox-2.0.1 pyperclip-1.11.0 pyrect-0.2.0 pyscreeze-1.0.1 pytweening-1.2.0\n",
      "Note: you may need to restart the kernel to use updated packages.\n"
     ]
    },
    {
     "name": "stderr",
     "output_type": "stream",
     "text": [
      "  DEPRECATION: Building 'pygetwindow' using the legacy setup.py bdist_wheel mechanism, which will be removed in a future version. pip 25.3 will enforce this behaviour change. A possible replacement is to use the standardized build interface by setting the `--use-pep517` option, (possibly combined with `--no-build-isolation`), or adding a `pyproject.toml` file to the source tree of 'pygetwindow'. Discussion can be found at https://github.com/pypa/pip/issues/6334\n",
      "  DEPRECATION: Building 'pytweening' using the legacy setup.py bdist_wheel mechanism, which will be removed in a future version. pip 25.3 will enforce this behaviour change. A possible replacement is to use the standardized build interface by setting the `--use-pep517` option, (possibly combined with `--no-build-isolation`), or adding a `pyproject.toml` file to the source tree of 'pytweening'. Discussion can be found at https://github.com/pypa/pip/issues/6334\n",
      "  DEPRECATION: Building 'mouseinfo' using the legacy setup.py bdist_wheel mechanism, which will be removed in a future version. pip 25.3 will enforce this behaviour change. A possible replacement is to use the standardized build interface by setting the `--use-pep517` option, (possibly combined with `--no-build-isolation`), or adding a `pyproject.toml` file to the source tree of 'mouseinfo'. Discussion can be found at https://github.com/pypa/pip/issues/6334\n",
      "  DEPRECATION: Building 'pyrect' using the legacy setup.py bdist_wheel mechanism, which will be removed in a future version. pip 25.3 will enforce this behaviour change. A possible replacement is to use the standardized build interface by setting the `--use-pep517` option, (possibly combined with `--no-build-isolation`), or adding a `pyproject.toml` file to the source tree of 'pyrect'. Discussion can be found at https://github.com/pypa/pip/issues/6334\n"
     ]
    }
   ],
   "source": [
    "# pip install pyautogui"
   ]
  },
  {
   "cell_type": "code",
   "execution_count": null,
   "id": "96bab97a",
   "metadata": {},
   "outputs": [],
   "source": []
  }
 ],
 "metadata": {
  "kernelspec": {
   "display_name": "Python 3",
   "language": "python",
   "name": "python3"
  },
  "language_info": {
   "codemirror_mode": {
    "name": "ipython",
    "version": 3
   },
   "file_extension": ".py",
   "mimetype": "text/x-python",
   "name": "python",
   "nbconvert_exporter": "python",
   "pygments_lexer": "ipython3",
   "version": "3.10.18"
  }
 },
 "nbformat": 4,
 "nbformat_minor": 5
}
